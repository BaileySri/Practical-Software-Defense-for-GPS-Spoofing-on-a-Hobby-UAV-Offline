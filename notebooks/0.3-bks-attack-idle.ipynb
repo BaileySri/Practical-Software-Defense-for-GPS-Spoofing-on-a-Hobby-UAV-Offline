{
 "cells": [
  {
   "cell_type": "markdown",
   "id": "5915171e-25b8-4674-882f-7102415d1df5",
   "metadata": {},
   "source": [
    "# Visual Analysis of Attacking an Idle Drone (20m Offset, 1m/s/s Strength)\n",
    "In this data the drone is set to loiter in the air at an approximate height of\n",
    "8m and set to hold position, altitude, and attitude. The GPS spoofing attack\n",
    "written into the autopilot is enabled by controller with the target offset of\n",
    "20m with a strength depending on the parameters. The collected data includes\n",
    "a strength of 1m/s/s, 2m/s/s, and 4m/s/s, identified by the naming scheme\n",
    "Live-C-Idle-Attack-`offset`-`strength`.log. The data files can be found\n",
    "in the data subdirectory. Only interim data will be available on github to\n",
    "preserve storage. For raw log files please contact me at\n",
    "srimoungchanh.bailey@ku.edu.\n",
    "\n",
    "\n",
    "For additional information about each sensor pair used in confirmation or a\n",
    "more detailed explanation of the process refer to the\n",
    "[exploration notebook](./0.1-bks-exploration.ipynb) using simulation data."
   ]
  },
  {
   "cell_type": "markdown",
   "id": "04fae325-6023-434d-be33-22d5297a9f71",
   "metadata": {},
   "source": [
    "## Data Processing\n",
    "The log `file` needs to be parsed out as the format is irregular, starting with\n",
    "a csv of rows prefixed with FMT, indicating the log type and format. The FMT\n",
    "rows will be parsed into headers and then the subsequent rows will be matched\n",
    "on log name, i.e., \"__SNS1__\", \"__SNS2__\", \"__SNS3__\" and added to their\n",
    "respective dataframes. The dataframes are then unioned on their timestamps to\n",
    "create a single dataframe with all of the __SNS__ data. If an `output` path is\n",
    "provided the newly created dataframe will be written to the path as a CSV."
   ]
  },
  {
   "cell_type": "code",
   "execution_count": 1,
   "id": "615b0cfc-7ec1-4349-a244-5a58d29aacbd",
   "metadata": {
    "tags": []
   },
   "outputs": [
    {
     "data": {
      "application/vnd.jupyter.widget-view+json": {
       "model_id": "7b4321c8762c4396a7fc0651c430c287",
       "version_major": 2,
       "version_minor": 0
      },
      "text/plain": [
       "  0%|          | 0/79403 [00:00<?, ?it/s]"
      ]
     },
     "metadata": {},
     "output_type": "display_data"
    }
   ],
   "source": [
    "%load_ext autoreload\n",
    "%autoreload 2\n",
    "%matplotlib widget\n",
    "\n",
    "import pandas as pd\n",
    "import numpy as np\n",
    "from confirmation.process import process_SNS\n",
    "from os.path import exists\n",
    "\n",
    "#Convert log file from Mission Planner to usable CSV\n",
    "data_dir = \"../data/\"\n",
    "file = \"Live-C-Idle-Attack-2000-0_4.log\" #Change file for different log files\n",
    "output = data_dir + \"interim/\" + file[:-3] + \"csv\"\n",
    "\n",
    "#Check if file exists already and if it does skip processing and read the file\n",
    "if not exists(output):\n",
    "    #Open log file and parse out the SNS data into pandas dataframes\n",
    "    df = process_SNS(data_dir + \"raw/\" + file, output)\n",
    "else:\n",
    "    df = pd.read_csv(output)\n",
    "\n",
    "#All of the data is numeric and should be treated as such\n",
    "df = df.apply(pd.to_numeric)\n",
    "\n",
    "#Set index to be the timestamps so we can drop duplicate rows\n",
    "#then reset index to be row number\n",
    "df.set_index(\"TimeUS\",inplace=True)\n",
    "df = df.drop_duplicates()\n",
    "df.reset_index(inplace=True)"
   ]
  },
  {
   "cell_type": "markdown",
   "id": "b3fc7a62-a1e0-473f-82b2-c6482bd601cb",
   "metadata": {},
   "source": [
    "## GPS specific\n",
    "Looking at specifically the GPS sensor there isn't an inherent value being\n",
    "measured that can be directly compared to inertial sensors such as angular\n",
    "rate. Instead, we will take a look at the different ways a GPS can be confirmed\n",
    "even if each sensor pairing does not have an application to another sensor\n",
    "pair. An example of this is using a barometer to confirm the GPS height\n",
    "estimate while using the magnetometer to confirm the GPS heading (assuming\n",
    "conditions are met).\n",
    "\n",
    "__GPS__ provides positional data which is derived from information provided by\n",
    "satellites and the signals used to transmit that information. A consequence of\n",
    "using several satellites for position calculation is the absolute measurements\n",
    "will have less accuracy depending on world model but the relative measurements\n",
    "will still have decent accuracy. Below will be a list of confirmations we will\n",
    "explore in this:\n",
    "\n",
    "| **Measurement**             | **Rangefinder** | **Barometer** | **Magnetometer** | **Gyroscope** | **RF & OF** |   **Accelerometer &  (Gyroscope \\|\\| Magnetometer)**|\n",
    "|-----------------------------|-----------------|---------------|------------------|---------------|-------------|-----------------------------------------------------|\n",
    "| Above-Ground-Level Distance |      **x**      |     **x**     |                  |               |    **x**    |                        **x**                        |\n",
    "| Heading                     |                 |               |       **x**      |     **x**     |             |                        **x**                        |\n",
    "| Speed                       |                 |               |                  |               |    **x**    |                        **x**                        |"
   ]
  },
  {
   "cell_type": "markdown",
   "id": "413ff8ae-83d0-40be-b8a3-e3fc90ba373a",
   "metadata": {},
   "source": [
    "Windowing closed the gap between sensors significantly and provided a tighter\n",
    "grouping. Unfortunately the barometer is still rather spiky but this is still\n",
    "attributed to the pressure difference issue mentioned before when the\n",
    "quadcopter starts tilting."
   ]
  },
  {
   "cell_type": "markdown",
   "id": "b83a8a0a-865b-4131-acb7-530ed7b9705c",
   "metadata": {},
   "source": [
    "### Velocity\n",
    "__Important details to keep in mind:__\n",
    "\n",
    "* GPS is logged in geodetic measurements, i.e., lat and lng, and need to be\n",
    "converted to a usable format like ECEF.\n",
    "\n",
    "* Optical flow and rangefinder sensor are both susceptible to tilting. The\n",
    "optical flow sensor only reports pitch and roll meaning the altitude or \n",
    "downward velocity will have to be derived from the rangefinder if desired.\n",
    "\n",
    "* Accelerometer combined with gyroscope and magnetometer represent a generic\n",
    "dead reckoning solution which is commonly known to suffer from integration\n",
    "drift. We will look at some windowing later on to see if this problem can be\n",
    "alleviated.\n",
    "\n",
    "\n",
    "For functions used in cleaning up data refer to the\n",
    "[process.py](../src/confirmation/process.py) file.\n",
    "\n",
    "Lets look at the OF and RF first."
   ]
  },
  {
   "cell_type": "code",
   "execution_count": 11,
   "id": "af1c7920-afd0-4bf6-8b27-a03ab3025744",
   "metadata": {},
   "outputs": [
    {
     "data": {
      "application/vnd.jupyter.widget-view+json": {
       "model_id": "adaa6f5d193442529f4e2a42e16d516b",
       "version_major": 2,
       "version_minor": 0
      },
      "image/png": "[encoded data removed]",
      "text/html": [
       "\n",
       "            <div style=\"display: inline-block;\">\n",
       "                <div class=\"jupyter-widgets widget-label\" style=\"text-align: center;\">\n",
       "                    Figure\n",
       "                </div>\n",
       "                <img src='data:image/png;base64,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' width=960.0/>\n",
       "            </div>\n",
       "        "
      ],
      "text/plain": [
       "Canvas(toolbar=Toolbar(toolitems=[('Home', 'Reset original view', 'home', 'home'), ('Back', 'Back to previous …"
      ]
     },
     "metadata": {},
     "output_type": "display_data"
    }
   ],
   "source": [
    "from confirmation.visualize import simple_time_plot\n",
    "\n",
    "#Attack variables\n",
    "atk = 163475940\n",
    "times = [0, atk/1000]\n",
    "\n",
    "#Drop the extra rows that are not related to updating the optical flow\n",
    "of = df[df.ofMS.shift() != df.ofMS][[\"ofMS\",\"frF\",\"frR\",\"rf\"]].reset_index()\n",
    "\n",
    "#Convert optical flow and rangefinder to OF Velocity\n",
    "of_vel = pd.DataFrame(data={\"OF Forward\":of.frF * of.rf/100,\n",
    "                            \"OF Right\":of.frR * of.rf/100})\n",
    "\n",
    "simple_time_plot([of.ofMS, of.ofMS],\n",
    "                 [of_vel['OF Forward'], of_vel['OF Right']],\n",
    "                 atk=atk,\n",
    "                 title=\"Optical Flow Velocity\",\n",
    "                 units=[\"ms\",\"Velocity (m/s)\"])"
   ]
  },
  {
   "cell_type": "code",
   "execution_count": 10,
   "id": "807865de-3eb7-468b-82f1-3e37695b307d",
   "metadata": {},
   "outputs": [
    {
     "data": {
      "text/plain": [
       "0      0.000000\n",
       "1     -0.136905\n",
       "2     -0.135649\n",
       "3      0.000000\n",
       "4      0.000000\n",
       "         ...   \n",
       "435   -0.130213\n",
       "436    0.000000\n",
       "437    0.000000\n",
       "438    0.128604\n",
       "439    0.385810\n",
       "Name: OF Forward, Length: 440, dtype: float64"
      ]
     },
     "execution_count": 10,
     "metadata": {},
     "output_type": "execute_result"
    }
   ],
   "source": [
    "of_vel['OF Forward']"
   ]
  },
  {
   "cell_type": "markdown",
   "id": "c554dda1-a5c4-48ec-b747-6685ecf7d16b",
   "metadata": {},
   "source": [
    "The OF and RF velocity is spikey with frequent returns to 0. An important\n",
    "detail about the OF and RF derived velocity is the readings are absolute\n",
    "velocity instead of change in velocity. In order to confirm OF and RF to\n",
    "dead reckoning either the OF and RF readings need to be changed to their\n",
    "change_in_signal equivalent or the dead reckoning will need to be integrated\n",
    "for absolute velocity. We will start with deriving the GPS velocity from\n",
    "subsequent geodetic positions which we expect to have an accuracy of 0.05m/s\n",
    "according to the GPS datasheet."
   ]
  },
  {
   "cell_type": "code",
   "execution_count": null,
   "id": "440da650-b131-43fd-b472-aaf71413787d",
   "metadata": {},
   "outputs": [],
   "source": [
    "from confirmation.process import geodetic2ned, change_in_signal\n",
    "\n",
    "#Drop the extra rows not related to updating the gps\n",
    "gps = df[df.gpsMS.shift() != df.gpsMS][[\"gpsMS\",\"lat\",\"lng\",\"gpAlt\"]].reset_index()\n",
    "\n",
    "gps_ned = geodetic2ned(gps.lat, gps.lng, gps.gpAlt)\n",
    "gps_ned_ms = gps_ned.apply(change_in_signal)\n",
    "\n",
    "simple_time_plot([gps.gpsMS[1:],\n",
    "                  gps.gpsMS[1:]],\n",
    "                 gps_ned_ms[[\"North\",\"East\"]],\n",
    "                 atk=atk/1000,\n",
    "                title=\"North/East Velocity Readings\",\n",
    "                units=[\"ms\",\"Velocity (m/s)\"])"
   ]
  },
  {
   "cell_type": "markdown",
   "id": "20c7e288-2fb5-4240-afd4-dd0ff33a25dc",
   "metadata": {},
   "source": [
    "As can be seen in the above figure the GPS signal was the one\n",
    "being spoofed and flattens out at the point of attack. For\n",
    "further verification you can zoom in on the signal after the\n",
    "attack to see small bumps in the East velocity, bumps that\n",
    "represent the attackers injected velocity signal to make\n",
    "the quadcopter fly off course. Let's see next how the two signals compare in\n",
    "both the benign and attacked setting."
   ]
  },
  {
   "cell_type": "code",
   "execution_count": null,
   "id": "e78159cf-eee3-497e-af97-4539c9d0e83c",
   "metadata": {},
   "outputs": [],
   "source": [
    "from math import floor\n",
    "from confirmation.process import signal_match_and_cumsum, linear_bias\n",
    "\n",
    "#Remove duplicate rows for each signal\n",
    "gpsMS = df[df.gpsMS.shift() != df.gpsMS][[\"gpsMS\",\"gpAlt\"]].reset_index()\n",
    "\n",
    "#GPS window size where window is in seconds\n",
    "window = 1\n",
    "gps_size = floor(window * 1000/gpsMS.gpsMS.diff().mean())\n",
    "gp_alt = change_in_signal(gpsMS.gpAlt/100)\n",
    "\n",
    "of_match_gps = signal_match_and_cumsum(of.ofUS[1:].reset_index(drop=True), change_in_signal(of_vel['OF Forward']),\n",
    "                            gpsMS.gpsMS[1:].reset_index(drop=True), change_in_signal(gps_ned_ms['East']))\n",
    "\n",
    "times = [0, atk/1000]\n",
    "of_match_gps = linear_bias(gpsMS.gpsMS[2:], change_in_signal(of_match_gps), times).rolling(gps_size).sum()\n",
    "of_match_gps = pd.Series(of_match_gps, name=\"of_dt\")\n",
    "\n",
    "gps = linear_bias(gpsMS.gpsMS[1:], gps_ned_ms['East'], times).rolling(gps_size).sum()"
   ]
  },
  {
   "cell_type": "code",
   "execution_count": null,
   "id": "4a7dd56f-3b88-452b-951c-de7d7ee62404",
   "metadata": {},
   "outputs": [],
   "source": [
    "#We need the index at which the attack starts since the signals ahve lost their\n",
    "#timestamps during processing\n",
    "atk_index = gpsMS.gpsMS[gpsMS.gpsMS < atk/1000][-1:].index[0]\n",
    "\n",
    "#We also need the point at which the attack is disabled to remove the data\n",
    "#points following from the analysis otherwise they will skew the analysis.\n",
    "end_index = gpsMS.gpsMS[gpsMS.gpsMS < 185430][-1:].index[0]\n",
    "\n",
    "#We also want to consider when the drone isn't pitching to start moving which\n",
    "#spikes the optical flow readings.\n",
    "after_atk_index = gpsMS.gpsMS[gpsMS.gpsMS < 176620][-1:].index[0]\n",
    "\n",
    "#Calculate the value at which 99.7% of points fall below for both the benign\n",
    "#and attacked setting\n",
    "print(\"OF and GPS during benign 99.7%%: %.5fm\" % np.percentile(abs(of_match_gps - gps)[:atk_index].dropna(), 99.7))\n",
    "print(\"OF and GPS during attack 99.7%%: %.5fm\" % np.percentile(abs(of_match_gps - gps)[atk_index:end_index].dropna(), 99.7))\n",
    "print(\"OF and GPS after  pitch  99.7%%: %.5fm\" % np.percentile(abs(of_match_gps - gps)[after_atk_index:end_index].dropna(), 99.7))"
   ]
  },
  {
   "cell_type": "code",
   "execution_count": null,
   "id": "e1633f10-7ba2-43e5-8519-ee3a11db29d9",
   "metadata": {},
   "outputs": [],
   "source": [
    "simple_time_plot([gpsMS.gpsMS[:end_index],gpsMS.gpsMS[1:end_index]],\n",
    "                 [of_match_gps[:end_index], gps[1:end_index]],\n",
    "                title = \"Change in East Velocity with \" + str(window) + \" Second Windowing (OF vs GPS)\",\n",
    "                units = [\"ms\",\"Velocity (m/s)\"],\n",
    "                atk=atk/1000)"
   ]
  },
  {
   "cell_type": "code",
   "execution_count": null,
   "id": "5dd6d9e6-9ce6-4268-a1ce-12b05c9d30f9",
   "metadata": {},
   "outputs": [],
   "source": []
  }
 ],
 "metadata": {
  "kernelspec": {
   "display_name": "Python 3 (ipykernel)",
   "language": "python",
   "name": "python3"
  },
  "language_info": {
   "codemirror_mode": {
    "name": "ipython",
    "version": 3
   },
   "file_extension": ".py",
   "mimetype": "text/x-python",
   "name": "python",
   "nbconvert_exporter": "python",
   "pygments_lexer": "ipython3",
   "version": "3.10.4"
  }
 },
 "nbformat": 4,
 "nbformat_minor": 5
}
