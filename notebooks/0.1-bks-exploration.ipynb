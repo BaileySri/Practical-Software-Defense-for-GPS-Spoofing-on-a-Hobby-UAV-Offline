{
 "cells": [
  {
   "cell_type": "markdown",
   "id": "456243bb-c97b-44cb-b562-a15370eb68f3",
   "metadata": {},
   "source": [
    "# Sensor Confirmation\n",
    "In this notebook the data exploration for Sensor Confirmation will be presented. Assumptions about sensor pairs will be explained and visuals to support certain actions will be provided, i.e., offset and scaling of sensor readings. The goal is to determine how feasible Sensor Confirmation is given data readings from a set of independent sensors that resolve to the same information.\n",
    "\n",
    "-  Sensors Explored\n",
    "    -  Inertial Measurement Unit (IMU)\n",
    "        -  Accelerometer\n",
    "        -  Gyroscope\n",
    "        -  Magnetometer\n",
    "    -  Optical Flow (OF)\n",
    "    -  Rangefinder (RF)\n",
    "    -  Global Positioning System (GPS)\n",
    "    -  Barometer\n",
    "***\n",
    "| Sensor Systems                                              | Gyroscope | Accelerometer | Magnetometer | Barometer | GPS   | Rangefinder | Optical Flow | Rangefinder & Optical Flow | Rangefinder & Optical Flow & <br>(Gyroscope \\|\\|  Magnetometer) | Accelerometer & <br>(Gyroscope \\|\\|  Magnetometer) |\n",
    "|-------------------------------------------------------------|-----------|---------------|--------------|-----------|-------|-------------|--------------|----------------------------|-------------------------------------------------------------|------------------------------------------------|\n",
    "| Gyroscope                                                   |     -     |               |     **x**    |           |       |             |     **x**    |                            |                              -                              |                        -                       |\n",
    "| Accelerometer                                               |     -     |       -       |              |   **x**   |       |    **x**    |              |            **x**           |                            **x**                            |                        -                       |\n",
    "| Magnetometer                                                |     -     |       -       |      -       |           |       |             |     **x**    |                            |                              -                              |                        -                       |\n",
    "| Barometer                                                   |     -     |       -       |       -      |      -    | **x** |    **x**    |              |            **x**           |                            **x**                            |                      **x**                     |\n",
    "| GPS                                                         |     -     |       -       |       -      |     -     |   -   |    **x**    |              |                            |                            **x**                            |                      **x**                     |\n",
    "| Rangefinder                                                 |     -     |       -       |       -      |     -     |   -   |      -      |              |              -             |                              -                              |                      **x**                     |\n",
    "| Optical Flow                                                |     -     |       -       |       -      |     -     |   -   |      -      |       -      |              -             |                              -                              |                      **x**                     |\n",
    "| Rangefinder & Optical Flow                                  |     -     |       -       |       -      |     -     |   -   |      -      |       -      |              -             |                              -                              |                      **x**                     |\n",
    "| Rangefinder & Optical Flow & <br>(Gyroscope \\|\\|  Magnetometer) |     -     |       -       |       -      |     -     |   -   |      -      |       -      |              -             |                              -                              |                      **x**                     |\n",
    "| Accelerometer & <br>(Gyroscope \\|\\|  Magnetometer)              |     -     |       -       |       -      |     -     |   -   |      -      |       -      |             -              |                              -                              |                        -                       |"
   ]
  },
  {
   "cell_type": "code",
   "execution_count": 1,
   "id": "0809095c-4941-441b-b87d-c66321bc5a7e",
   "metadata": {
    "tags": []
   },
   "outputs": [],
   "source": [
    "%load_ext autoreload\n",
    "%autoreload 2"
   ]
  },
  {
   "cell_type": "markdown",
   "id": "04fae325-6023-434d-be33-22d5297a9f71",
   "metadata": {},
   "source": [
    "## Data Processing\n",
    "The log `file` needs to be parsed out as the format is irregular, starting with\n",
    "a csv of rows prefixed with FMT, indicating the log type and format. The FMT\n",
    "rows will be parsed into headers and then the subsequent rows will be matched\n",
    "on log name, i.e., \"__SNS1__\", \"__SNS2__\", \"__SNS3__\" and added to their\n",
    "respective dataframes. The dataframes are then unioned on their timestamps to\n",
    "create a single dataframe with all of the __SNS__ data. If an `output` path is\n",
    "provided the newly created dataframe will be written to the path as a CSV."
   ]
  },
  {
   "cell_type": "code",
   "execution_count": 2,
   "id": "91334101-792d-4e2b-b746-6cf9918297ab",
   "metadata": {},
   "outputs": [
    {
     "data": {
      "application/vnd.jupyter.widget-view+json": {
       "model_id": "e48cf3616b4c413eb97c3ba28af05019",
       "version_major": 2,
       "version_minor": 0
      },
      "text/plain": [
       "  0%|          | 0/440071 [00:00<?, ?it/s]"
      ]
     },
     "metadata": {},
     "output_type": "display_data"
    }
   ],
   "source": [
    "import pandas as pd\n",
    "import numpy as np\n",
    "from confirmation.process import process_SNS\n",
    "\n",
    "#Convert log file from Mission Planner to usable CSV\n",
    "data_dir = \"../data/\"\n",
    "file = \"C-Delivery.log\" #Change file for different log files\n",
    "output = data_dir + \"interim/\" + file[:-3] + \"csv\"\n",
    "df = process_SNS(data_dir + \"raw/\" + file, output)"
   ]
  },
  {
   "cell_type": "code",
   "execution_count": null,
   "id": "61fd95d8-95a3-412c-bf56-4d2cf61b849a",
   "metadata": {},
   "outputs": [],
   "source": []
  }
 ],
 "metadata": {
  "kernelspec": {
   "display_name": "Python 3 (ipykernel)",
   "language": "python",
   "name": "python3"
  },
  "language_info": {
   "codemirror_mode": {
    "name": "ipython",
    "version": 3
   },
   "file_extension": ".py",
   "mimetype": "text/x-python",
   "name": "python",
   "nbconvert_exporter": "python",
   "pygments_lexer": "ipython3",
   "version": "3.10.4"
  }
 },
 "nbformat": 4,
 "nbformat_minor": 5
}
