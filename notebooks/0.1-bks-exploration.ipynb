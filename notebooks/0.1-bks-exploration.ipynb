{
 "cells": [
  {
   "cell_type": "markdown",
   "id": "456243bb-c97b-44cb-b562-a15370eb68f3",
   "metadata": {},
   "source": [
    "# Sensor Confirmation\n",
    "In this notebook the data exploration for Sensor Confirmation will be presented. Assumptions about sensor pairs will be explained and visuals to support certain actions will be provided, i.e., offset and scaling of sensor readings. The goal is to determine how feasible Sensor Confirmation is given data readings from a set of independent sensors that resolve to the same information.\n",
    "\n",
    "-  Sensors Explored\n",
    "    -  Inertial Measurement Unit (IMU)\n",
    "        -  Accelerometer\n",
    "        -  Gyroscope\n",
    "        -  Magnetometer\n",
    "    -  Optical Flow (OF)\n",
    "    -  Rangefinder (RF)\n",
    "    -  Global Positioning System (GPS)\n",
    "    -  Barometer\n",
    "***\n",
    "| Sensor Systems                                              | Gyroscope | Accelerometer | Magnetometer | Barometer | GPS   | Rangefinder | Optical Flow | Rangefinder & Optical Flow | Rangefinder & Optical Flow & <br>(Gyroscope \\|\\|  Magnetometer) | Accelerometer & <br>(Gyroscope \\|\\|  Magnetometer) |\n",
    "|-------------------------------------------------------------|-----------|---------------|--------------|-----------|-------|-------------|--------------|----------------------------|-------------------------------------------------------------|------------------------------------------------|\n",
    "| Gyroscope                                                   |     -     |               |     **x**    |           |       |             |     **x**    |                            |                              -                              |                        -                       |\n",
    "| Accelerometer                                               |     -     |       -       |              |   **x**   |       |    **x**    |              |            **x**           |                            **x**                            |                        -                       |\n",
    "| Magnetometer                                                |     -     |       -       |      -       |           |       |             |     **x**    |                            |                              -                              |                        -                       |\n",
    "| Barometer                                                   |     -     |       -       |       -      |      -    | **x** |    **x**    |              |            **x**           |                            **x**                            |                      **x**                     |\n",
    "| GPS                                                         |     -     |       -       |       -      |     -     |   -   |    **x**    |              |                            |                            **x**                            |                      **x**                     |\n",
    "| Rangefinder                                                 |     -     |       -       |       -      |     -     |   -   |      -      |              |              -             |                              -                              |                      **x**                     |\n",
    "| Optical Flow                                                |     -     |       -       |       -      |     -     |   -   |      -      |       -      |              -             |                              -                              |                      **x**                     |\n",
    "| Rangefinder & Optical Flow                                  |     -     |       -       |       -      |     -     |   -   |      -      |       -      |              -             |                              -                              |                      **x**                     |\n",
    "| Rangefinder & Optical Flow & <br>(Gyroscope \\|\\|  Magnetometer) |     -     |       -       |       -      |     -     |   -   |      -      |       -      |              -             |                              -                              |                      **x**                     |\n",
    "| Accelerometer & <br>(Gyroscope \\|\\|  Magnetometer)              |     -     |       -       |       -      |     -     |   -   |      -      |       -      |             -              |                              -                              |                        -                       |"
   ]
  },
  {
   "cell_type": "code",
   "execution_count": 1,
   "id": "0809095c-4941-441b-b87d-c66321bc5a7e",
   "metadata": {
    "tags": []
   },
   "outputs": [],
   "source": [
    "%load_ext autoreload\n",
    "%autoreload 2"
   ]
  },
  {
   "cell_type": "markdown",
   "id": "04fae325-6023-434d-be33-22d5297a9f71",
   "metadata": {},
   "source": [
    "## Data Processing\n",
    "The log `file` needs to be parsed out as the format is irregular, starting with\n",
    "a csv of rows prefixed with FMT, indicating the log type and format. The FMT\n",
    "rows will be parsed into headers and then the subsequent rows will be matched\n",
    "on log name, i.e., \"__SNS1__\", \"__SNS2__\", \"__SNS3__\" and added to their\n",
    "respective dataframes. The dataframes are then unioned on their timestamps to\n",
    "create a single dataframe with all of the __SNS__ data. If an `output` path is\n",
    "provided the newly created dataframe will be written to the path as a CSV."
   ]
  },
  {
   "cell_type": "code",
   "execution_count": 2,
   "id": "91334101-792d-4e2b-b746-6cf9918297ab",
   "metadata": {},
   "outputs": [
    {
     "data": {
      "application/vnd.jupyter.widget-view+json": {
       "model_id": "1d393dccc96345bb9f7d1f49da658028",
       "version_major": 2,
       "version_minor": 0
      },
      "text/plain": [
       "  0%|          | 0/511825 [00:00<?, ?it/s]"
      ]
     },
     "metadata": {},
     "output_type": "display_data"
    }
   ],
   "source": [
    "import pandas as pd\n",
    "import numpy as np\n",
    "from confirmation.process import process_SNS\n",
    "from os.path import exists\n",
    "\n",
    "#Convert log file from Mission Planner to usable CSV\n",
    "data_dir = \"../data/\"\n",
    "file = \"C-Delivery.log\" #Change file for different log files\n",
    "output = data_dir + \"interim/\" + file[:-3] + \"csv\"\n",
    "\n",
    "#Check if file exists already and if it does skip processing and read the file\n",
    "if not exists(output):\n",
    "    #Open log file and parse out the SNS data into pandas dataframes\n",
    "    df = process_SNS(data_dir + \"raw/\" + file, output)\n",
    "else:\n",
    "    df = pd.read_csv(output)"
   ]
  },
  {
   "cell_type": "markdown",
   "id": "e591b408-2905-46b6-a828-b540a4bef077",
   "metadata": {},
   "source": [
    "## Gyroscope and Magnetometer\n",
    "Gyroscopes and Magnetometer are both related in that they provide attitude\n",
    "information. Gyroscopes provide angular rate information while Magnetometers\n",
    "provide magnetic field information which can be used with local corrections\n",
    "to determine heading.\n",
    "\n",
    "The gyroscopes we generally use are the ones embedded in the\n",
    "ArduPilot flight controllers which are microelectromechanical systems\n",
    "(MEMS) gyroscopes. MEMS gyroscopes measure angular rate using the Coriolis\n",
    "effect. The angular rate by itself can be used as change in attitude but\n",
    "can also see use in systems such as dead reckoning where a starting attitude\n",
    "is known and the angular rate is integrated over time to rotate the attitude.\n",
    "A known issue with dead reckoning however is integration drift, where the\n",
    "attitude will drift from the true attitude due to integrating noise in the\n",
    "angular rate readings.\n",
    "\n",
    "The magnetometer is used for absolute attitude information. By measuring\n",
    "the magnetic field and compensating for local magnetic declination an\n",
    "attitude can be established. ArduPilot primarily uses the magnetometer for\n",
    "heading correction which represents the yaw. Several yaw measurements\n",
    "can be used to determine the angular rate of the system which can be\n",
    "confirmed directly to the gyroscope angular rate measurements.\n",
    "\n",
    "The two sensors above represent one of the more elementary sensor pairs that\n",
    "can be confirmed with one another without augmentation from other sensors."
   ]
  },
  {
   "cell_type": "markdown",
   "id": "137485f0-6f70-4767-a0a6-0bcad87fdc6f",
   "metadata": {},
   "source": [
    "#### Gyroscope\n",
    "Gyroscope inherently provides angular rate which can be confirmed to the \n",
    "changes in magnetometer-derived change in attitude. If we were to confirm\n",
    "directly to the magnetometer-derived attitude instead we would need to\n",
    "integrate the gyroscope readings.\n",
    "\n",
    "Here is a plot of the gyroscope readings along the x axis during the duration\n",
    "of the flight, representing the pitching of the quadcopter."
   ]
  },
  {
   "cell_type": "code",
   "execution_count": null,
   "id": "44a34ede-4ff2-4bb5-b5c2-de49a58c2b19",
   "metadata": {},
   "outputs": [],
   "source": [
    "#TODO: Data exploration for Gyroscope vs Mag\n",
    "from confirmation.visualize import simple_time_plot\n",
    "\n",
    "simple_time_plot(df.TimeUS, df.)"
   ]
  }
 ],
 "metadata": {
  "kernelspec": {
   "display_name": "Python 3 (ipykernel)",
   "language": "python",
   "name": "python3"
  },
  "language_info": {
   "codemirror_mode": {
    "name": "ipython",
    "version": 3
   },
   "file_extension": ".py",
   "mimetype": "text/x-python",
   "name": "python",
   "nbconvert_exporter": "python",
   "pygments_lexer": "ipython3",
   "version": "3.10.4"
  }
 },
 "nbformat": 4,
 "nbformat_minor": 5
}
